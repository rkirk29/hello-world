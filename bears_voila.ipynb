{
  "nbformat": 4,
  "nbformat_minor": 0,
  "metadata": {
    "colab": {
      "name": "bears_voila.ipynb",
      "provenance": [],
      "authorship_tag": "ABX9TyM5JQrBswbU1IVxQQZopPn/"
    },
    "kernelspec": {
      "name": "python3",
      "display_name": "Python 3"
    },
    "widgets": {
      "application/vnd.jupyter.widget-state+json": {
        "9ac0682dfa474fb9a53373543334cc74": {
          "model_module": "@jupyter-widgets/controls",
          "model_name": "VBoxModel",
          "state": {
            "_view_name": "VBoxView",
            "_dom_classes": [],
            "_model_name": "VBoxModel",
            "_view_module": "@jupyter-widgets/controls",
            "_model_module_version": "1.5.0",
            "_view_count": null,
            "_view_module_version": "1.5.0",
            "box_style": "",
            "layout": "IPY_MODEL_d5ac3595e84a43c8bd970792a8fb0920",
            "_model_module": "@jupyter-widgets/controls",
            "children": [
              "IPY_MODEL_44834d0959ba48fcb09224957a13fd35",
              "IPY_MODEL_d7db17b668454823a090fb735ae1a59e",
              "IPY_MODEL_0eee38c37e6845b1ba07c7ea246c5515",
              "IPY_MODEL_457968f2c22b4d6b96ba3d8b873fd684"
            ]
          }
        },
        "d5ac3595e84a43c8bd970792a8fb0920": {
          "model_module": "@jupyter-widgets/base",
          "model_name": "LayoutModel",
          "state": {
            "_view_name": "LayoutView",
            "grid_template_rows": null,
            "right": null,
            "justify_content": null,
            "_view_module": "@jupyter-widgets/base",
            "overflow": null,
            "_model_module_version": "1.2.0",
            "_view_count": null,
            "flex_flow": null,
            "width": null,
            "min_width": null,
            "border": null,
            "align_items": null,
            "bottom": null,
            "_model_module": "@jupyter-widgets/base",
            "top": null,
            "grid_column": null,
            "overflow_y": null,
            "overflow_x": null,
            "grid_auto_flow": null,
            "grid_area": null,
            "grid_template_columns": null,
            "flex": null,
            "_model_name": "LayoutModel",
            "justify_items": null,
            "grid_row": null,
            "max_height": null,
            "align_content": null,
            "visibility": null,
            "align_self": null,
            "height": null,
            "min_height": null,
            "padding": null,
            "grid_auto_rows": null,
            "grid_gap": null,
            "max_width": null,
            "order": null,
            "_view_module_version": "1.2.0",
            "grid_template_areas": null,
            "object_position": null,
            "object_fit": null,
            "grid_auto_columns": null,
            "margin": null,
            "display": null,
            "left": null
          }
        },
        "44834d0959ba48fcb09224957a13fd35": {
          "model_module": "@jupyter-widgets/controls",
          "model_name": "LabelModel",
          "state": {
            "_view_name": "LabelView",
            "style": "IPY_MODEL_c1ea04fbc33b4fbda210a00e9382eee3",
            "_dom_classes": [],
            "description": "",
            "_model_name": "LabelModel",
            "placeholder": "​",
            "_view_module": "@jupyter-widgets/controls",
            "_model_module_version": "1.5.0",
            "value": "Select your bear!",
            "_view_count": null,
            "_view_module_version": "1.5.0",
            "description_tooltip": null,
            "_model_module": "@jupyter-widgets/controls",
            "layout": "IPY_MODEL_689a74c87a1b40978f98e1040677dd5c"
          }
        },
        "d7db17b668454823a090fb735ae1a59e": {
          "model_module": "@jupyter-widgets/controls",
          "model_name": "FileUploadModel",
          "state": {
            "_view_name": "FileUploadView",
            "_counter": 1,
            "style": "IPY_MODEL_0d37c38fd5c241bcbbe01da8ff5e3de7",
            "_dom_classes": [],
            "description": "Upload",
            "multiple": false,
            "_model_name": "FileUploadModel",
            "data": [
              null
            ],
            "button_style": "",
            "_view_module": "@jupyter-widgets/controls",
            "_model_module_version": "1.5.0",
            "accept": "",
            "_view_count": null,
            "disabled": false,
            "_view_module_version": "1.5.0",
            "error": "",
            "description_tooltip": null,
            "metadata": [
              {
                "name": "grizzly.jpg",
                "type": "image/jpeg",
                "size": 89542,
                "lastModified": 1602361445753
              }
            ],
            "_model_module": "@jupyter-widgets/controls",
            "layout": "IPY_MODEL_33ad41766425490ab453f2f8a071a181",
            "icon": "upload"
          }
        },
        "0eee38c37e6845b1ba07c7ea246c5515": {
          "model_module": "@jupyter-widgets/output",
          "model_name": "OutputModel",
          "state": {
            "_view_name": "OutputView",
            "msg_id": "",
            "_dom_classes": [],
            "_model_name": "OutputModel",
            "outputs": [
              {
                "output_type": "display_data",
                "metadata": {
                  "tags": []
                },
                "image/png": "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\n",
                "text/plain": "<PIL.Image.Image image mode=RGB size=128x85 at 0x7F20B312EB00>"
              }
            ],
            "_view_module": "@jupyter-widgets/output",
            "_model_module_version": "1.0.0",
            "_view_count": null,
            "_view_module_version": "1.0.0",
            "layout": "IPY_MODEL_d9ca58003aef443f9d4421e2e245ffd4",
            "_model_module": "@jupyter-widgets/output"
          }
        },
        "457968f2c22b4d6b96ba3d8b873fd684": {
          "model_module": "@jupyter-widgets/controls",
          "model_name": "LabelModel",
          "state": {
            "_view_name": "LabelView",
            "style": "IPY_MODEL_561c3667f12a4a3891d3e1130538e4cf",
            "_dom_classes": [],
            "description": "",
            "_model_name": "LabelModel",
            "placeholder": "​",
            "_view_module": "@jupyter-widgets/controls",
            "_model_module_version": "1.5.0",
            "value": "Prediction: grizzly; Probability: 1.0000",
            "_view_count": null,
            "_view_module_version": "1.5.0",
            "description_tooltip": null,
            "_model_module": "@jupyter-widgets/controls",
            "layout": "IPY_MODEL_f2c2fe8054014b7ba677ec56dff3ef37"
          }
        },
        "c1ea04fbc33b4fbda210a00e9382eee3": {
          "model_module": "@jupyter-widgets/controls",
          "model_name": "DescriptionStyleModel",
          "state": {
            "_view_name": "StyleView",
            "_model_name": "DescriptionStyleModel",
            "description_width": "",
            "_view_module": "@jupyter-widgets/base",
            "_model_module_version": "1.5.0",
            "_view_count": null,
            "_view_module_version": "1.2.0",
            "_model_module": "@jupyter-widgets/controls"
          }
        },
        "689a74c87a1b40978f98e1040677dd5c": {
          "model_module": "@jupyter-widgets/base",
          "model_name": "LayoutModel",
          "state": {
            "_view_name": "LayoutView",
            "grid_template_rows": null,
            "right": null,
            "justify_content": null,
            "_view_module": "@jupyter-widgets/base",
            "overflow": null,
            "_model_module_version": "1.2.0",
            "_view_count": null,
            "flex_flow": null,
            "width": null,
            "min_width": null,
            "border": null,
            "align_items": null,
            "bottom": null,
            "_model_module": "@jupyter-widgets/base",
            "top": null,
            "grid_column": null,
            "overflow_y": null,
            "overflow_x": null,
            "grid_auto_flow": null,
            "grid_area": null,
            "grid_template_columns": null,
            "flex": null,
            "_model_name": "LayoutModel",
            "justify_items": null,
            "grid_row": null,
            "max_height": null,
            "align_content": null,
            "visibility": null,
            "align_self": null,
            "height": null,
            "min_height": null,
            "padding": null,
            "grid_auto_rows": null,
            "grid_gap": null,
            "max_width": null,
            "order": null,
            "_view_module_version": "1.2.0",
            "grid_template_areas": null,
            "object_position": null,
            "object_fit": null,
            "grid_auto_columns": null,
            "margin": null,
            "display": null,
            "left": null
          }
        },
        "0d37c38fd5c241bcbbe01da8ff5e3de7": {
          "model_module": "@jupyter-widgets/controls",
          "model_name": "ButtonStyleModel",
          "state": {
            "_view_name": "StyleView",
            "_model_name": "ButtonStyleModel",
            "_view_module": "@jupyter-widgets/base",
            "_model_module_version": "1.5.0",
            "_view_count": null,
            "button_color": null,
            "font_weight": "",
            "_view_module_version": "1.2.0",
            "_model_module": "@jupyter-widgets/controls"
          }
        },
        "33ad41766425490ab453f2f8a071a181": {
          "model_module": "@jupyter-widgets/base",
          "model_name": "LayoutModel",
          "state": {
            "_view_name": "LayoutView",
            "grid_template_rows": null,
            "right": null,
            "justify_content": null,
            "_view_module": "@jupyter-widgets/base",
            "overflow": null,
            "_model_module_version": "1.2.0",
            "_view_count": null,
            "flex_flow": null,
            "width": null,
            "min_width": null,
            "border": null,
            "align_items": null,
            "bottom": null,
            "_model_module": "@jupyter-widgets/base",
            "top": null,
            "grid_column": null,
            "overflow_y": null,
            "overflow_x": null,
            "grid_auto_flow": null,
            "grid_area": null,
            "grid_template_columns": null,
            "flex": null,
            "_model_name": "LayoutModel",
            "justify_items": null,
            "grid_row": null,
            "max_height": null,
            "align_content": null,
            "visibility": null,
            "align_self": null,
            "height": null,
            "min_height": null,
            "padding": null,
            "grid_auto_rows": null,
            "grid_gap": null,
            "max_width": null,
            "order": null,
            "_view_module_version": "1.2.0",
            "grid_template_areas": null,
            "object_position": null,
            "object_fit": null,
            "grid_auto_columns": null,
            "margin": null,
            "display": null,
            "left": null
          }
        },
        "561c3667f12a4a3891d3e1130538e4cf": {
          "model_module": "@jupyter-widgets/controls",
          "model_name": "DescriptionStyleModel",
          "state": {
            "_view_name": "StyleView",
            "_model_name": "DescriptionStyleModel",
            "description_width": "",
            "_view_module": "@jupyter-widgets/base",
            "_model_module_version": "1.5.0",
            "_view_count": null,
            "_view_module_version": "1.2.0",
            "_model_module": "@jupyter-widgets/controls"
          }
        },
        "f2c2fe8054014b7ba677ec56dff3ef37": {
          "model_module": "@jupyter-widgets/base",
          "model_name": "LayoutModel",
          "state": {
            "_view_name": "LayoutView",
            "grid_template_rows": null,
            "right": null,
            "justify_content": null,
            "_view_module": "@jupyter-widgets/base",
            "overflow": null,
            "_model_module_version": "1.2.0",
            "_view_count": null,
            "flex_flow": null,
            "width": null,
            "min_width": null,
            "border": null,
            "align_items": null,
            "bottom": null,
            "_model_module": "@jupyter-widgets/base",
            "top": null,
            "grid_column": null,
            "overflow_y": null,
            "overflow_x": null,
            "grid_auto_flow": null,
            "grid_area": null,
            "grid_template_columns": null,
            "flex": null,
            "_model_name": "LayoutModel",
            "justify_items": null,
            "grid_row": null,
            "max_height": null,
            "align_content": null,
            "visibility": null,
            "align_self": null,
            "height": null,
            "min_height": null,
            "padding": null,
            "grid_auto_rows": null,
            "grid_gap": null,
            "max_width": null,
            "order": null,
            "_view_module_version": "1.2.0",
            "grid_template_areas": null,
            "object_position": null,
            "object_fit": null,
            "grid_auto_columns": null,
            "margin": null,
            "display": null,
            "left": null
          }
        },
        "d9ca58003aef443f9d4421e2e245ffd4": {
          "model_module": "@jupyter-widgets/base",
          "model_name": "LayoutModel",
          "state": {
            "_view_name": "LayoutView",
            "grid_template_rows": null,
            "right": null,
            "justify_content": null,
            "_view_module": "@jupyter-widgets/base",
            "overflow": null,
            "_model_module_version": "1.2.0",
            "_view_count": null,
            "flex_flow": null,
            "width": null,
            "min_width": null,
            "border": null,
            "align_items": null,
            "bottom": null,
            "_model_module": "@jupyter-widgets/base",
            "top": null,
            "grid_column": null,
            "overflow_y": null,
            "overflow_x": null,
            "grid_auto_flow": null,
            "grid_area": null,
            "grid_template_columns": null,
            "flex": null,
            "_model_name": "LayoutModel",
            "justify_items": null,
            "grid_row": null,
            "max_height": null,
            "align_content": null,
            "visibility": null,
            "align_self": null,
            "height": null,
            "min_height": null,
            "padding": null,
            "grid_auto_rows": null,
            "grid_gap": null,
            "max_width": null,
            "order": null,
            "_view_module_version": "1.2.0",
            "grid_template_areas": null,
            "object_position": null,
            "object_fit": null,
            "grid_auto_columns": null,
            "margin": null,
            "display": null,
            "left": null
          }
        }
      }
    }
  },
  "cells": [
    {
      "cell_type": "code",
      "metadata": {
        "id": "3Gkv12-PbXAK",
        "outputId": "5b971ac9-3a9b-4e4d-aaf4-9d28bdb18301",
        "colab": {
          "base_uri": "https://localhost:8080/",
          "height": 969
        }
      },
      "source": [
        "!pip install voila\n",
        "!jupyter serverextension enable voila —sys-prefix"
      ],
      "execution_count": 10,
      "outputs": [
        {
          "output_type": "stream",
          "text": [
            "Requirement already satisfied: voila in /usr/local/lib/python3.6/dist-packages (0.2.3)\n",
            "Requirement already satisfied: nbclient<0.6,>=0.4.0 in /usr/local/lib/python3.6/dist-packages (from voila) (0.5.0)\n",
            "Requirement already satisfied: jupyter-client<7,>=6.1.3 in /usr/local/lib/python3.6/dist-packages (from voila) (6.1.7)\n",
            "Collecting nbconvert<7,>=6.0.0\n",
            "  Using cached https://files.pythonhosted.org/packages/13/2f/acbe7006548f3914456ee47f97a2033b1b2f3daf921b12ac94105d87c163/nbconvert-6.0.7-py3-none-any.whl\n",
            "Requirement already satisfied: jupyter-server<2.0.0,>=0.3.0 in /usr/local/lib/python3.6/dist-packages (from voila) (1.0.4)\n",
            "Requirement already satisfied: traitlets>=4.2 in /usr/local/lib/python3.6/dist-packages (from nbclient<0.6,>=0.4.0->voila) (4.3.3)\n",
            "Requirement already satisfied: async-generator in /usr/local/lib/python3.6/dist-packages (from nbclient<0.6,>=0.4.0->voila) (1.10)\n",
            "Requirement already satisfied: nest-asyncio in /usr/local/lib/python3.6/dist-packages (from nbclient<0.6,>=0.4.0->voila) (1.4.1)\n",
            "Requirement already satisfied: nbformat>=5.0 in /usr/local/lib/python3.6/dist-packages (from nbclient<0.6,>=0.4.0->voila) (5.0.7)\n",
            "Requirement already satisfied: python-dateutil>=2.1 in /usr/local/lib/python3.6/dist-packages (from jupyter-client<7,>=6.1.3->voila) (2.8.1)\n",
            "Requirement already satisfied: jupyter-core>=4.6.0 in /usr/local/lib/python3.6/dist-packages (from jupyter-client<7,>=6.1.3->voila) (4.6.3)\n",
            "Requirement already satisfied: pyzmq>=13 in /usr/local/lib/python3.6/dist-packages (from jupyter-client<7,>=6.1.3->voila) (19.0.2)\n",
            "Requirement already satisfied: tornado>=4.1 in /usr/local/lib/python3.6/dist-packages (from jupyter-client<7,>=6.1.3->voila) (5.1.1)\n",
            "Requirement already satisfied: pygments>=2.4.1 in /usr/local/lib/python3.6/dist-packages (from nbconvert<7,>=6.0.0->voila) (2.6.1)\n",
            "Requirement already satisfied: testpath in /usr/local/lib/python3.6/dist-packages (from nbconvert<7,>=6.0.0->voila) (0.4.4)\n",
            "Requirement already satisfied: defusedxml in /usr/local/lib/python3.6/dist-packages (from nbconvert<7,>=6.0.0->voila) (0.6.0)\n",
            "Requirement already satisfied: bleach in /usr/local/lib/python3.6/dist-packages (from nbconvert<7,>=6.0.0->voila) (3.2.1)\n",
            "Requirement already satisfied: pandocfilters>=1.4.1 in /usr/local/lib/python3.6/dist-packages (from nbconvert<7,>=6.0.0->voila) (1.4.2)\n",
            "Requirement already satisfied: mistune<2,>=0.8.1 in /usr/local/lib/python3.6/dist-packages (from nbconvert<7,>=6.0.0->voila) (0.8.4)\n",
            "Requirement already satisfied: jinja2>=2.4 in /usr/local/lib/python3.6/dist-packages (from nbconvert<7,>=6.0.0->voila) (2.11.2)\n",
            "Requirement already satisfied: entrypoints>=0.2.2 in /usr/local/lib/python3.6/dist-packages (from nbconvert<7,>=6.0.0->voila) (0.3)\n",
            "Requirement already satisfied: jupyterlab-pygments in /usr/local/lib/python3.6/dist-packages (from nbconvert<7,>=6.0.0->voila) (0.1.2)\n",
            "Requirement already satisfied: Send2Trash in /usr/local/lib/python3.6/dist-packages (from jupyter-server<2.0.0,>=0.3.0->voila) (1.5.0)\n",
            "Requirement already satisfied: terminado>=0.8.3 in /usr/local/lib/python3.6/dist-packages (from jupyter-server<2.0.0,>=0.3.0->voila) (0.9.1)\n",
            "Requirement already satisfied: prometheus-client in /usr/local/lib/python3.6/dist-packages (from jupyter-server<2.0.0,>=0.3.0->voila) (0.8.0)\n",
            "Requirement already satisfied: ipython-genutils in /usr/local/lib/python3.6/dist-packages (from jupyter-server<2.0.0,>=0.3.0->voila) (0.2.0)\n",
            "Requirement already satisfied: six in /usr/local/lib/python3.6/dist-packages (from traitlets>=4.2->nbclient<0.6,>=0.4.0->voila) (1.15.0)\n",
            "Requirement already satisfied: decorator in /usr/local/lib/python3.6/dist-packages (from traitlets>=4.2->nbclient<0.6,>=0.4.0->voila) (4.4.2)\n",
            "Requirement already satisfied: jsonschema!=2.5.0,>=2.4 in /usr/local/lib/python3.6/dist-packages (from nbformat>=5.0->nbclient<0.6,>=0.4.0->voila) (2.6.0)\n",
            "Requirement already satisfied: webencodings in /usr/local/lib/python3.6/dist-packages (from bleach->nbconvert<7,>=6.0.0->voila) (0.5.1)\n",
            "Requirement already satisfied: packaging in /usr/local/lib/python3.6/dist-packages (from bleach->nbconvert<7,>=6.0.0->voila) (20.4)\n",
            "Requirement already satisfied: MarkupSafe>=0.23 in /usr/local/lib/python3.6/dist-packages (from jinja2>=2.4->nbconvert<7,>=6.0.0->voila) (1.1.1)\n",
            "Requirement already satisfied: ptyprocess; os_name != \"nt\" in /usr/local/lib/python3.6/dist-packages (from terminado>=0.8.3->jupyter-server<2.0.0,>=0.3.0->voila) (0.6.0)\n",
            "Requirement already satisfied: pyparsing>=2.0.2 in /usr/local/lib/python3.6/dist-packages (from packaging->bleach->nbconvert<7,>=6.0.0->voila) (2.4.7)\n",
            "\u001b[31mERROR: nbdev 1.1.0 has requirement nbconvert<6, but you'll have nbconvert 6.0.7 which is incompatible.\u001b[0m\n",
            "Installing collected packages: nbconvert\n",
            "  Found existing installation: nbconvert 5.6.1\n",
            "    Uninstalling nbconvert-5.6.1:\n",
            "      Successfully uninstalled nbconvert-5.6.1\n",
            "Successfully installed nbconvert-6.0.7\n"
          ],
          "name": "stdout"
        },
        {
          "output_type": "display_data",
          "data": {
            "application/vnd.colab-display-data+json": {
              "pip_warning": {
                "packages": [
                  "nbconvert"
                ]
              }
            }
          },
          "metadata": {
            "tags": []
          }
        },
        {
          "output_type": "stream",
          "text": [
            "Enabling: voila\n",
            "- Writing config: /root/.jupyter\n",
            "    - Validating...\n",
            "Error loading server extension voila\n",
            "     \u001b[31m X\u001b[0m is voila importable?\n",
            "Enabling: —sys-prefix\n",
            "- Writing config: /root/.jupyter\n",
            "    - Validating...\n",
            "Error loading server extension —sys-prefix\n",
            "     \u001b[31m X\u001b[0m is —sys-prefix importable?\n"
          ],
          "name": "stdout"
        }
      ]
    },
    {
      "cell_type": "code",
      "metadata": {
        "id": "svwcmkiRbnsZ",
        "outputId": "e10b03d6-5fe9-47e6-efa0-3fc0fdaf542a",
        "colab": {
          "base_uri": "https://localhost:8080/",
          "height": 187
        }
      },
      "source": [
        "!jupyter serverextension enable voila —sys-prefix"
      ],
      "execution_count": 1,
      "outputs": [
        {
          "output_type": "stream",
          "text": [
            "Enabling: voila\n",
            "- Writing config: /root/.jupyter\n",
            "    - Validating...\n",
            "Error loading server extension voila\n",
            "     \u001b[31m X\u001b[0m is voila importable?\n",
            "Enabling: —sys-prefix\n",
            "- Writing config: /root/.jupyter\n",
            "    - Validating...\n",
            "Error loading server extension —sys-prefix\n",
            "     \u001b[31m X\u001b[0m is —sys-prefix importable?\n"
          ],
          "name": "stdout"
        }
      ]
    },
    {
      "cell_type": "code",
      "metadata": {
        "id": "b_oS3hWLbpiu",
        "outputId": "834612b9-39e8-4d2f-8be0-baf5ed71d9b3",
        "colab": {
          "base_uri": "https://localhost:8080/",
          "height": 714
        }
      },
      "source": [
        "!pip install fastai\n"
      ],
      "execution_count": 1,
      "outputs": [
        {
          "output_type": "stream",
          "text": [
            "Requirement already satisfied: fastai in /usr/local/lib/python3.6/dist-packages (2.0.16)\n",
            "Requirement already satisfied: requests in /usr/local/lib/python3.6/dist-packages (from fastai) (2.23.0)\n",
            "Requirement already satisfied: packaging in /usr/local/lib/python3.6/dist-packages (from fastai) (20.4)\n",
            "Requirement already satisfied: torchvision>=0.7 in /usr/local/lib/python3.6/dist-packages (from fastai) (0.7.0+cu101)\n",
            "Requirement already satisfied: matplotlib in /usr/local/lib/python3.6/dist-packages (from fastai) (3.2.2)\n",
            "Requirement already satisfied: pandas in /usr/local/lib/python3.6/dist-packages (from fastai) (1.1.2)\n",
            "Requirement already satisfied: fastcore>=1.1.0 in /usr/local/lib/python3.6/dist-packages (from fastai) (1.1.0)\n",
            "Requirement already satisfied: pyyaml in /usr/local/lib/python3.6/dist-packages (from fastai) (3.13)\n",
            "Requirement already satisfied: spacy in /usr/local/lib/python3.6/dist-packages (from fastai) (2.2.4)\n",
            "Requirement already satisfied: torch>=1.6.0 in /usr/local/lib/python3.6/dist-packages (from fastai) (1.6.0+cu101)\n",
            "Requirement already satisfied: fastprogress>=0.2.4 in /usr/local/lib/python3.6/dist-packages (from fastai) (1.0.0)\n",
            "Requirement already satisfied: scipy in /usr/local/lib/python3.6/dist-packages (from fastai) (1.4.1)\n",
            "Requirement already satisfied: scikit-learn in /usr/local/lib/python3.6/dist-packages (from fastai) (0.22.2.post1)\n",
            "Requirement already satisfied: pip in /usr/local/lib/python3.6/dist-packages (from fastai) (19.3.1)\n",
            "Requirement already satisfied: pillow in /usr/local/lib/python3.6/dist-packages (from fastai) (7.0.0)\n",
            "Requirement already satisfied: idna<3,>=2.5 in /usr/local/lib/python3.6/dist-packages (from requests->fastai) (2.10)\n",
            "Requirement already satisfied: chardet<4,>=3.0.2 in /usr/local/lib/python3.6/dist-packages (from requests->fastai) (3.0.4)\n",
            "Requirement already satisfied: certifi>=2017.4.17 in /usr/local/lib/python3.6/dist-packages (from requests->fastai) (2020.6.20)\n",
            "Requirement already satisfied: urllib3!=1.25.0,!=1.25.1,<1.26,>=1.21.1 in /usr/local/lib/python3.6/dist-packages (from requests->fastai) (1.24.3)\n",
            "Requirement already satisfied: pyparsing>=2.0.2 in /usr/local/lib/python3.6/dist-packages (from packaging->fastai) (2.4.7)\n",
            "Requirement already satisfied: six in /usr/local/lib/python3.6/dist-packages (from packaging->fastai) (1.15.0)\n",
            "Requirement already satisfied: numpy in /usr/local/lib/python3.6/dist-packages (from torchvision>=0.7->fastai) (1.18.5)\n",
            "Requirement already satisfied: python-dateutil>=2.1 in /usr/local/lib/python3.6/dist-packages (from matplotlib->fastai) (2.8.1)\n",
            "Requirement already satisfied: kiwisolver>=1.0.1 in /usr/local/lib/python3.6/dist-packages (from matplotlib->fastai) (1.2.0)\n",
            "Requirement already satisfied: cycler>=0.10 in /usr/local/lib/python3.6/dist-packages (from matplotlib->fastai) (0.10.0)\n",
            "Requirement already satisfied: pytz>=2017.2 in /usr/local/lib/python3.6/dist-packages (from pandas->fastai) (2018.9)\n",
            "Requirement already satisfied: catalogue<1.1.0,>=0.0.7 in /usr/local/lib/python3.6/dist-packages (from spacy->fastai) (1.0.0)\n",
            "Requirement already satisfied: murmurhash<1.1.0,>=0.28.0 in /usr/local/lib/python3.6/dist-packages (from spacy->fastai) (1.0.2)\n",
            "Requirement already satisfied: cymem<2.1.0,>=2.0.2 in /usr/local/lib/python3.6/dist-packages (from spacy->fastai) (2.0.3)\n",
            "Requirement already satisfied: preshed<3.1.0,>=3.0.2 in /usr/local/lib/python3.6/dist-packages (from spacy->fastai) (3.0.2)\n",
            "Requirement already satisfied: blis<0.5.0,>=0.4.0 in /usr/local/lib/python3.6/dist-packages (from spacy->fastai) (0.4.1)\n",
            "Requirement already satisfied: srsly<1.1.0,>=1.0.2 in /usr/local/lib/python3.6/dist-packages (from spacy->fastai) (1.0.2)\n",
            "Requirement already satisfied: tqdm<5.0.0,>=4.38.0 in /usr/local/lib/python3.6/dist-packages (from spacy->fastai) (4.41.1)\n",
            "Requirement already satisfied: thinc==7.4.0 in /usr/local/lib/python3.6/dist-packages (from spacy->fastai) (7.4.0)\n",
            "Requirement already satisfied: plac<1.2.0,>=0.9.6 in /usr/local/lib/python3.6/dist-packages (from spacy->fastai) (1.1.3)\n",
            "Requirement already satisfied: wasabi<1.1.0,>=0.4.0 in /usr/local/lib/python3.6/dist-packages (from spacy->fastai) (0.8.0)\n",
            "Requirement already satisfied: setuptools in /usr/local/lib/python3.6/dist-packages (from spacy->fastai) (50.3.0)\n",
            "Requirement already satisfied: future in /usr/local/lib/python3.6/dist-packages (from torch>=1.6.0->fastai) (0.16.0)\n",
            "Requirement already satisfied: joblib>=0.11 in /usr/local/lib/python3.6/dist-packages (from scikit-learn->fastai) (0.16.0)\n",
            "Requirement already satisfied: importlib-metadata>=0.20; python_version < \"3.8\" in /usr/local/lib/python3.6/dist-packages (from catalogue<1.1.0,>=0.0.7->spacy->fastai) (2.0.0)\n",
            "Requirement already satisfied: zipp>=0.5 in /usr/local/lib/python3.6/dist-packages (from importlib-metadata>=0.20; python_version < \"3.8\"->catalogue<1.1.0,>=0.0.7->spacy->fastai) (3.2.0)\n"
          ],
          "name": "stdout"
        }
      ]
    },
    {
      "cell_type": "code",
      "metadata": {
        "id": "as0eO8jMeR2p",
        "outputId": "4d83f77a-f998-499b-c307-1b2296bca8d5",
        "colab": {
          "base_uri": "https://localhost:8080/",
          "height": 1000
        }
      },
      "source": [
        "!pip install fastbook \n",
        "\n"
      ],
      "execution_count": 15,
      "outputs": [
        {
          "output_type": "stream",
          "text": [
            "Requirement already satisfied: fastbook in /usr/local/lib/python3.6/dist-packages (0.0.11)\n",
            "Requirement already satisfied: pip in /usr/local/lib/python3.6/dist-packages (from fastbook) (19.3.1)\n",
            "Requirement already satisfied: azure-cognitiveservices-search-imagesearch in /usr/local/lib/python3.6/dist-packages (from fastbook) (2.0.0)\n",
            "Requirement already satisfied: nbdev>=0.2.38 in /usr/local/lib/python3.6/dist-packages (from fastbook) (1.1.0)\n",
            "Requirement already satisfied: packaging in /usr/local/lib/python3.6/dist-packages (from fastbook) (20.4)\n",
            "Requirement already satisfied: fastai>=2.0 in /usr/local/lib/python3.6/dist-packages (from fastbook) (2.0.16)\n",
            "Requirement already satisfied: sentencepiece<0.1.90 in /usr/local/lib/python3.6/dist-packages (from fastbook) (0.1.86)\n",
            "Requirement already satisfied: pandas in /usr/local/lib/python3.6/dist-packages (from fastbook) (1.1.2)\n",
            "Requirement already satisfied: ipywidgets in /usr/local/lib/python3.6/dist-packages (from fastbook) (7.5.1)\n",
            "Requirement already satisfied: msrestazure<2.0.0,>=0.4.32 in /usr/local/lib/python3.6/dist-packages (from azure-cognitiveservices-search-imagesearch->fastbook) (0.6.4)\n",
            "Requirement already satisfied: msrest>=0.5.0 in /usr/local/lib/python3.6/dist-packages (from azure-cognitiveservices-search-imagesearch->fastbook) (0.6.19)\n",
            "Requirement already satisfied: azure-common~=1.1 in /usr/local/lib/python3.6/dist-packages (from azure-cognitiveservices-search-imagesearch->fastbook) (1.1.25)\n",
            "Requirement already satisfied: fastcore>=1.0.15 in /usr/local/lib/python3.6/dist-packages (from nbdev>=0.2.38->fastbook) (1.1.0)\n",
            "Requirement already satisfied: ipykernel in /usr/local/lib/python3.6/dist-packages (from nbdev>=0.2.38->fastbook) (4.10.1)\n",
            "Requirement already satisfied: nbformat>=4.4.0 in /usr/local/lib/python3.6/dist-packages (from nbdev>=0.2.38->fastbook) (5.0.7)\n",
            "Requirement already satisfied: pyyaml in /usr/local/lib/python3.6/dist-packages (from nbdev>=0.2.38->fastbook) (3.13)\n",
            "Collecting nbconvert<6\n",
            "  Using cached https://files.pythonhosted.org/packages/79/6c/05a569e9f703d18aacb89b7ad6075b404e8a4afde2c26b73ca77bb644b14/nbconvert-5.6.1-py2.py3-none-any.whl\n",
            "Requirement already satisfied: jupyter-client in /usr/local/lib/python3.6/dist-packages (from nbdev>=0.2.38->fastbook) (6.1.7)\n",
            "Requirement already satisfied: six in /usr/local/lib/python3.6/dist-packages (from packaging->fastbook) (1.15.0)\n",
            "Requirement already satisfied: pyparsing>=2.0.2 in /usr/local/lib/python3.6/dist-packages (from packaging->fastbook) (2.4.7)\n",
            "Requirement already satisfied: fastprogress>=0.2.4 in /usr/local/lib/python3.6/dist-packages (from fastai>=2.0->fastbook) (1.0.0)\n",
            "Requirement already satisfied: matplotlib in /usr/local/lib/python3.6/dist-packages (from fastai>=2.0->fastbook) (3.2.2)\n",
            "Requirement already satisfied: torch>=1.6.0 in /usr/local/lib/python3.6/dist-packages (from fastai>=2.0->fastbook) (1.6.0+cu101)\n",
            "Requirement already satisfied: torchvision>=0.7 in /usr/local/lib/python3.6/dist-packages (from fastai>=2.0->fastbook) (0.7.0+cu101)\n",
            "Requirement already satisfied: pillow in /usr/local/lib/python3.6/dist-packages (from fastai>=2.0->fastbook) (7.0.0)\n",
            "Requirement already satisfied: requests in /usr/local/lib/python3.6/dist-packages (from fastai>=2.0->fastbook) (2.23.0)\n",
            "Requirement already satisfied: scikit-learn in /usr/local/lib/python3.6/dist-packages (from fastai>=2.0->fastbook) (0.22.2.post1)\n",
            "Requirement already satisfied: scipy in /usr/local/lib/python3.6/dist-packages (from fastai>=2.0->fastbook) (1.4.1)\n",
            "Requirement already satisfied: spacy in /usr/local/lib/python3.6/dist-packages (from fastai>=2.0->fastbook) (2.2.4)\n",
            "Requirement already satisfied: numpy>=1.15.4 in /usr/local/lib/python3.6/dist-packages (from pandas->fastbook) (1.18.5)\n",
            "Requirement already satisfied: python-dateutil>=2.7.3 in /usr/local/lib/python3.6/dist-packages (from pandas->fastbook) (2.8.1)\n",
            "Requirement already satisfied: pytz>=2017.2 in /usr/local/lib/python3.6/dist-packages (from pandas->fastbook) (2018.9)\n",
            "Requirement already satisfied: traitlets>=4.3.1 in /usr/local/lib/python3.6/dist-packages (from ipywidgets->fastbook) (4.3.3)\n",
            "Requirement already satisfied: ipython>=4.0.0; python_version >= \"3.3\" in /usr/local/lib/python3.6/dist-packages (from ipywidgets->fastbook) (5.5.0)\n",
            "Requirement already satisfied: widgetsnbextension~=3.5.0 in /usr/local/lib/python3.6/dist-packages (from ipywidgets->fastbook) (3.5.1)\n",
            "Requirement already satisfied: adal<2.0.0,>=0.6.0 in /usr/local/lib/python3.6/dist-packages (from msrestazure<2.0.0,>=0.4.32->azure-cognitiveservices-search-imagesearch->fastbook) (1.2.4)\n",
            "Requirement already satisfied: certifi>=2017.4.17 in /usr/local/lib/python3.6/dist-packages (from msrest>=0.5.0->azure-cognitiveservices-search-imagesearch->fastbook) (2020.6.20)\n",
            "Requirement already satisfied: requests-oauthlib>=0.5.0 in /usr/local/lib/python3.6/dist-packages (from msrest>=0.5.0->azure-cognitiveservices-search-imagesearch->fastbook) (1.3.0)\n",
            "Requirement already satisfied: isodate>=0.6.0 in /usr/local/lib/python3.6/dist-packages (from msrest>=0.5.0->azure-cognitiveservices-search-imagesearch->fastbook) (0.6.0)\n",
            "Requirement already satisfied: tornado>=4.0 in /usr/local/lib/python3.6/dist-packages (from ipykernel->nbdev>=0.2.38->fastbook) (5.1.1)\n",
            "Requirement already satisfied: ipython-genutils in /usr/local/lib/python3.6/dist-packages (from nbformat>=4.4.0->nbdev>=0.2.38->fastbook) (0.2.0)\n",
            "Requirement already satisfied: jsonschema!=2.5.0,>=2.4 in /usr/local/lib/python3.6/dist-packages (from nbformat>=4.4.0->nbdev>=0.2.38->fastbook) (2.6.0)\n",
            "Requirement already satisfied: jupyter-core in /usr/local/lib/python3.6/dist-packages (from nbformat>=4.4.0->nbdev>=0.2.38->fastbook) (4.6.3)\n",
            "Requirement already satisfied: testpath in /usr/local/lib/python3.6/dist-packages (from nbconvert<6->nbdev>=0.2.38->fastbook) (0.4.4)\n",
            "Requirement already satisfied: pygments in /usr/local/lib/python3.6/dist-packages (from nbconvert<6->nbdev>=0.2.38->fastbook) (2.6.1)\n",
            "Requirement already satisfied: entrypoints>=0.2.2 in /usr/local/lib/python3.6/dist-packages (from nbconvert<6->nbdev>=0.2.38->fastbook) (0.3)\n",
            "Requirement already satisfied: pandocfilters>=1.4.1 in /usr/local/lib/python3.6/dist-packages (from nbconvert<6->nbdev>=0.2.38->fastbook) (1.4.2)\n",
            "Requirement already satisfied: defusedxml in /usr/local/lib/python3.6/dist-packages (from nbconvert<6->nbdev>=0.2.38->fastbook) (0.6.0)\n",
            "Requirement already satisfied: mistune<2,>=0.8.1 in /usr/local/lib/python3.6/dist-packages (from nbconvert<6->nbdev>=0.2.38->fastbook) (0.8.4)\n",
            "Requirement already satisfied: jinja2>=2.4 in /usr/local/lib/python3.6/dist-packages (from nbconvert<6->nbdev>=0.2.38->fastbook) (2.11.2)\n",
            "Requirement already satisfied: bleach in /usr/local/lib/python3.6/dist-packages (from nbconvert<6->nbdev>=0.2.38->fastbook) (3.2.1)\n",
            "Requirement already satisfied: pyzmq>=13 in /usr/local/lib/python3.6/dist-packages (from jupyter-client->nbdev>=0.2.38->fastbook) (19.0.2)\n",
            "Requirement already satisfied: kiwisolver>=1.0.1 in /usr/local/lib/python3.6/dist-packages (from matplotlib->fastai>=2.0->fastbook) (1.2.0)\n",
            "Requirement already satisfied: cycler>=0.10 in /usr/local/lib/python3.6/dist-packages (from matplotlib->fastai>=2.0->fastbook) (0.10.0)\n",
            "Requirement already satisfied: future in /usr/local/lib/python3.6/dist-packages (from torch>=1.6.0->fastai>=2.0->fastbook) (0.16.0)\n",
            "Requirement already satisfied: idna<3,>=2.5 in /usr/local/lib/python3.6/dist-packages (from requests->fastai>=2.0->fastbook) (2.10)\n",
            "Requirement already satisfied: chardet<4,>=3.0.2 in /usr/local/lib/python3.6/dist-packages (from requests->fastai>=2.0->fastbook) (3.0.4)\n",
            "Requirement already satisfied: urllib3!=1.25.0,!=1.25.1,<1.26,>=1.21.1 in /usr/local/lib/python3.6/dist-packages (from requests->fastai>=2.0->fastbook) (1.24.3)\n",
            "Requirement already satisfied: joblib>=0.11 in /usr/local/lib/python3.6/dist-packages (from scikit-learn->fastai>=2.0->fastbook) (0.16.0)\n",
            "Requirement already satisfied: blis<0.5.0,>=0.4.0 in /usr/local/lib/python3.6/dist-packages (from spacy->fastai>=2.0->fastbook) (0.4.1)\n",
            "Requirement already satisfied: wasabi<1.1.0,>=0.4.0 in /usr/local/lib/python3.6/dist-packages (from spacy->fastai>=2.0->fastbook) (0.8.0)\n",
            "Requirement already satisfied: srsly<1.1.0,>=1.0.2 in /usr/local/lib/python3.6/dist-packages (from spacy->fastai>=2.0->fastbook) (1.0.2)\n",
            "Requirement already satisfied: cymem<2.1.0,>=2.0.2 in /usr/local/lib/python3.6/dist-packages (from spacy->fastai>=2.0->fastbook) (2.0.3)\n",
            "Requirement already satisfied: catalogue<1.1.0,>=0.0.7 in /usr/local/lib/python3.6/dist-packages (from spacy->fastai>=2.0->fastbook) (1.0.0)\n",
            "Requirement already satisfied: plac<1.2.0,>=0.9.6 in /usr/local/lib/python3.6/dist-packages (from spacy->fastai>=2.0->fastbook) (1.1.3)\n",
            "Requirement already satisfied: preshed<3.1.0,>=3.0.2 in /usr/local/lib/python3.6/dist-packages (from spacy->fastai>=2.0->fastbook) (3.0.2)\n",
            "Requirement already satisfied: tqdm<5.0.0,>=4.38.0 in /usr/local/lib/python3.6/dist-packages (from spacy->fastai>=2.0->fastbook) (4.41.1)\n",
            "Requirement already satisfied: thinc==7.4.0 in /usr/local/lib/python3.6/dist-packages (from spacy->fastai>=2.0->fastbook) (7.4.0)\n",
            "Requirement already satisfied: setuptools in /usr/local/lib/python3.6/dist-packages (from spacy->fastai>=2.0->fastbook) (50.3.0)\n",
            "Requirement already satisfied: murmurhash<1.1.0,>=0.28.0 in /usr/local/lib/python3.6/dist-packages (from spacy->fastai>=2.0->fastbook) (1.0.2)\n",
            "Requirement already satisfied: decorator in /usr/local/lib/python3.6/dist-packages (from traitlets>=4.3.1->ipywidgets->fastbook) (4.4.2)\n",
            "Requirement already satisfied: prompt-toolkit<2.0.0,>=1.0.4 in /usr/local/lib/python3.6/dist-packages (from ipython>=4.0.0; python_version >= \"3.3\"->ipywidgets->fastbook) (1.0.18)\n",
            "Requirement already satisfied: pexpect; sys_platform != \"win32\" in /usr/local/lib/python3.6/dist-packages (from ipython>=4.0.0; python_version >= \"3.3\"->ipywidgets->fastbook) (4.8.0)\n",
            "Requirement already satisfied: pickleshare in /usr/local/lib/python3.6/dist-packages (from ipython>=4.0.0; python_version >= \"3.3\"->ipywidgets->fastbook) (0.7.5)\n",
            "Requirement already satisfied: simplegeneric>0.8 in /usr/local/lib/python3.6/dist-packages (from ipython>=4.0.0; python_version >= \"3.3\"->ipywidgets->fastbook) (0.8.1)\n",
            "Requirement already satisfied: notebook>=4.4.1 in /usr/local/lib/python3.6/dist-packages (from widgetsnbextension~=3.5.0->ipywidgets->fastbook) (5.3.1)\n",
            "Requirement already satisfied: cryptography>=1.1.0 in /usr/local/lib/python3.6/dist-packages (from adal<2.0.0,>=0.6.0->msrestazure<2.0.0,>=0.4.32->azure-cognitiveservices-search-imagesearch->fastbook) (3.1.1)\n",
            "Requirement already satisfied: PyJWT>=1.0.0 in /usr/local/lib/python3.6/dist-packages (from adal<2.0.0,>=0.6.0->msrestazure<2.0.0,>=0.4.32->azure-cognitiveservices-search-imagesearch->fastbook) (1.7.1)\n",
            "Requirement already satisfied: oauthlib>=3.0.0 in /usr/local/lib/python3.6/dist-packages (from requests-oauthlib>=0.5.0->msrest>=0.5.0->azure-cognitiveservices-search-imagesearch->fastbook) (3.1.0)\n",
            "Requirement already satisfied: MarkupSafe>=0.23 in /usr/local/lib/python3.6/dist-packages (from jinja2>=2.4->nbconvert<6->nbdev>=0.2.38->fastbook) (1.1.1)\n",
            "Requirement already satisfied: webencodings in /usr/local/lib/python3.6/dist-packages (from bleach->nbconvert<6->nbdev>=0.2.38->fastbook) (0.5.1)\n",
            "Requirement already satisfied: importlib-metadata>=0.20; python_version < \"3.8\" in /usr/local/lib/python3.6/dist-packages (from catalogue<1.1.0,>=0.0.7->spacy->fastai>=2.0->fastbook) (2.0.0)\n",
            "Requirement already satisfied: wcwidth in /usr/local/lib/python3.6/dist-packages (from prompt-toolkit<2.0.0,>=1.0.4->ipython>=4.0.0; python_version >= \"3.3\"->ipywidgets->fastbook) (0.2.5)\n",
            "Requirement already satisfied: ptyprocess>=0.5 in /usr/local/lib/python3.6/dist-packages (from pexpect; sys_platform != \"win32\"->ipython>=4.0.0; python_version >= \"3.3\"->ipywidgets->fastbook) (0.6.0)\n",
            "Requirement already satisfied: terminado>=0.8.1 in /usr/local/lib/python3.6/dist-packages (from notebook>=4.4.1->widgetsnbextension~=3.5.0->ipywidgets->fastbook) (0.9.1)\n",
            "Requirement already satisfied: Send2Trash in /usr/local/lib/python3.6/dist-packages (from notebook>=4.4.1->widgetsnbextension~=3.5.0->ipywidgets->fastbook) (1.5.0)\n",
            "Requirement already satisfied: cffi!=1.11.3,>=1.8 in /usr/local/lib/python3.6/dist-packages (from cryptography>=1.1.0->adal<2.0.0,>=0.6.0->msrestazure<2.0.0,>=0.4.32->azure-cognitiveservices-search-imagesearch->fastbook) (1.14.3)\n",
            "Requirement already satisfied: zipp>=0.5 in /usr/local/lib/python3.6/dist-packages (from importlib-metadata>=0.20; python_version < \"3.8\"->catalogue<1.1.0,>=0.0.7->spacy->fastai>=2.0->fastbook) (3.2.0)\n",
            "Requirement already satisfied: pycparser in /usr/local/lib/python3.6/dist-packages (from cffi!=1.11.3,>=1.8->cryptography>=1.1.0->adal<2.0.0,>=0.6.0->msrestazure<2.0.0,>=0.4.32->azure-cognitiveservices-search-imagesearch->fastbook) (2.20)\n",
            "\u001b[31mERROR: voila 0.2.3 has requirement nbconvert<7,>=6.0.0, but you'll have nbconvert 5.6.1 which is incompatible.\u001b[0m\n",
            "Installing collected packages: nbconvert\n",
            "  Found existing installation: nbconvert 6.0.7\n",
            "    Uninstalling nbconvert-6.0.7:\n",
            "      Successfully uninstalled nbconvert-6.0.7\n",
            "Successfully installed nbconvert-5.6.1\n"
          ],
          "name": "stdout"
        },
        {
          "output_type": "display_data",
          "data": {
            "application/vnd.colab-display-data+json": {
              "pip_warning": {
                "packages": [
                  "nbconvert"
                ]
              }
            }
          },
          "metadata": {
            "tags": []
          }
        }
      ]
    },
    {
      "cell_type": "code",
      "metadata": {
        "id": "uD5nHo7xetvb",
        "outputId": "f1a53d0f-a8da-47f2-d2b6-eb37fe243c8d",
        "colab": {
          "base_uri": "https://localhost:8080/",
          "height": 299
        }
      },
      "source": [
        "import fastai.callback.all"
      ],
      "execution_count": 18,
      "outputs": [
        {
          "output_type": "error",
          "ename": "ModuleNotFoundError",
          "evalue": "ignored",
          "traceback": [
            "\u001b[0;31m---------------------------------------------------------------------------\u001b[0m",
            "\u001b[0;31mModuleNotFoundError\u001b[0m                       Traceback (most recent call last)",
            "\u001b[0;32m<ipython-input-18-720ad85b4f76>\u001b[0m in \u001b[0;36m<module>\u001b[0;34m()\u001b[0m\n\u001b[0;32m----> 1\u001b[0;31m \u001b[0;32mimport\u001b[0m \u001b[0mfastai\u001b[0m\u001b[0;34m.\u001b[0m\u001b[0mcallback\u001b[0m\u001b[0;34m.\u001b[0m\u001b[0mall\u001b[0m\u001b[0;34m\u001b[0m\u001b[0;34m\u001b[0m\u001b[0m\n\u001b[0m",
            "\u001b[0;31mModuleNotFoundError\u001b[0m: No module named 'fastai.callback.all'; 'fastai.callback' is not a package",
            "",
            "\u001b[0;31m---------------------------------------------------------------------------\u001b[0;32m\nNOTE: If your import is failing due to a missing package, you can\nmanually install dependencies using either !pip or !apt.\n\nTo view examples of installing some common dependencies, click the\n\"Open Examples\" button below.\n\u001b[0;31m---------------------------------------------------------------------------\u001b[0m\n"
          ]
        }
      ]
    },
    {
      "cell_type": "code",
      "metadata": {
        "id": "DkMwmZgGd0DJ"
      },
      "source": [
        "from fastai.vision.all import *\n",
        "from fastai.vision.widgets import *"
      ],
      "execution_count": 3,
      "outputs": []
    },
    {
      "cell_type": "code",
      "metadata": {
        "id": "Md3WGz6pb5jV"
      },
      "source": [
        "path = Path()\n",
        "learn_inf = load_learner(path/'export.pkl', cpu=True)\n",
        "btn_upload = widgets.FileUpload()\n",
        "out_pl = widgets.Output()\n",
        "lbl_pred = widgets.Label()"
      ],
      "execution_count": 4,
      "outputs": []
    },
    {
      "cell_type": "code",
      "metadata": {
        "id": "7rxZ_p3gfBhq"
      },
      "source": [
        "def on_data_change(change):\n",
        "    lbl_pred.value = ''\n",
        "    img = PILImage.create(btn_upload.data[-1])\n",
        "    out_pl.clear_output()\n",
        "    with out_pl: display(img.to_thumb(128,128))\n",
        "    pred,pred_idx,probs = learn_inf.predict(img)\n",
        "    lbl_pred.value = f'Prediction: {pred}; Probability: {probs[pred_idx]:.04f}'"
      ],
      "execution_count": 5,
      "outputs": []
    },
    {
      "cell_type": "code",
      "metadata": {
        "id": "HjGn3gEXfBqB"
      },
      "source": [
        "btn_upload.observe(on_data_change, names=['data'])"
      ],
      "execution_count": 6,
      "outputs": []
    },
    {
      "cell_type": "code",
      "metadata": {
        "id": "rqsjXKpOfBvy",
        "outputId": "332c1719-d851-445e-e489-9a7aef1587fa",
        "colab": {
          "base_uri": "https://localhost:8080/",
          "height": 198,
          "referenced_widgets": [
            "9ac0682dfa474fb9a53373543334cc74",
            "d5ac3595e84a43c8bd970792a8fb0920",
            "44834d0959ba48fcb09224957a13fd35",
            "d7db17b668454823a090fb735ae1a59e",
            "0eee38c37e6845b1ba07c7ea246c5515",
            "457968f2c22b4d6b96ba3d8b873fd684",
            "c1ea04fbc33b4fbda210a00e9382eee3",
            "689a74c87a1b40978f98e1040677dd5c",
            "0d37c38fd5c241bcbbe01da8ff5e3de7",
            "33ad41766425490ab453f2f8a071a181",
            "561c3667f12a4a3891d3e1130538e4cf",
            "f2c2fe8054014b7ba677ec56dff3ef37",
            "d9ca58003aef443f9d4421e2e245ffd4"
          ]
        }
      },
      "source": [
        "display(VBox([widgets.Label('Select your bear!'), btn_upload, out_pl, lbl_pred]))"
      ],
      "execution_count": 7,
      "outputs": [
        {
          "output_type": "display_data",
          "data": {
            "application/vnd.jupyter.widget-view+json": {
              "model_id": "9ac0682dfa474fb9a53373543334cc74",
              "version_minor": 0,
              "version_major": 2
            },
            "text/plain": [
              "VBox(children=(Label(value='Select your bear!'), FileUpload(value={}, description='Upload'), Output(), Label(v…"
            ]
          },
          "metadata": {
            "tags": []
          }
        },
        {
          "output_type": "display_data",
          "data": {
            "text/html": [
              ""
            ],
            "text/plain": [
              "<IPython.core.display.HTML object>"
            ]
          },
          "metadata": {
            "tags": []
          }
        }
      ]
    },
    {
      "cell_type": "code",
      "metadata": {
        "id": "irPwjxNpfByH"
      },
      "source": [
        ""
      ],
      "execution_count": null,
      "outputs": []
    },
    {
      "cell_type": "code",
      "metadata": {
        "id": "vrF_0Go4fB03"
      },
      "source": [
        ""
      ],
      "execution_count": null,
      "outputs": []
    },
    {
      "cell_type": "markdown",
      "metadata": {
        "id": "RH6qbqoRcg_x"
      },
      "source": [
        "# New section"
      ]
    }
  ]
}